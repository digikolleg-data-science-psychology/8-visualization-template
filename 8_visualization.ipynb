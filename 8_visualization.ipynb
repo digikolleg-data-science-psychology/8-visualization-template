{
  "cells": [
    {
      "cell_type": "markdown",
      "metadata": {
        "id": "view-in-github",
        "colab_type": "text"
      },
      "source": [
        "<a href=\"https://colab.research.google.com/github/digikolleg-data-science-psychology/8-visualization-template/blob/main/8_visualization.ipynb\" target=\"_parent\"><img src=\"https://colab.research.google.com/assets/colab-badge.svg\" alt=\"Open In Colab\"/></a>"
      ]
    },
    {
      "cell_type": "markdown",
      "id": "ab7ea1f7",
      "metadata": {
        "pycharm": {
          "name": "#%% md\n"
        },
        "id": "ab7ea1f7"
      },
      "source": [
        "Fill in your github username and idm credentials below:"
      ]
    },
    {
      "cell_type": "code",
      "execution_count": null,
      "id": "113f6c55",
      "metadata": {
        "pycharm": {
          "is_executing": true,
          "name": "#%%\n"
        },
        "vscode": {
          "languageId": "python"
        },
        "id": "113f6c55"
      },
      "outputs": [],
      "source": [
        "github_username = \"\"\n",
        "idm_credentials = \"\""
      ]
    },
    {
      "cell_type": "markdown",
      "id": "3f72d321",
      "metadata": {
        "pycharm": {
          "name": "#%% md\n"
        },
        "id": "3f72d321"
      },
      "source": [
        "---"
      ]
    },
    {
      "cell_type": "markdown",
      "id": "755c6140-79ab-496f-9e79-71972edca5bc",
      "metadata": {
        "pycharm": {
          "name": "#%% md\n"
        },
        "id": "755c6140-79ab-496f-9e79-71972edca5bc"
      },
      "source": [
        "# **Applied Data Science in Medicine & Psychology - Assignment 8**\n",
        "## Visualization\n",
        "---\n",
        "### **General Setup and Submission**\n",
        "1. Save an editable copy of this notebook to your Google Drive ``File`` $\\rightarrow$ ``Save a copy in Drive`` and remove the automatically appended \"Copy of\" text. **Do not change the original file name**.\n",
        "2. Work on the assignment in the *copied* version of the notebook. Make sure that you **replace** all parts of the tasks indicated with *YOUR CODE HERE* and **raise NotImplementedError()** (otherwise this causes an error in your implementation) or *YOUR ANSWER HERE* with your solution.\n",
        "3. If you take a break during the implementation, you can save the current status of your work in your repository following the submission instructions below. When you continue working on the assignment, do this in the version of the notebook that you saved in your Google Drive (access from your Google Colab account) or your repository.\n",
        "4. After finishing the assignment submit your assignment as follows:\n",
        "    * Check that everything runs as expected. To do that select in the menubar ``Runtime`` $\\rightarrow$ ``Restart and run all``. This will clear all your local variables and runs your notebook from the beginning.\n",
        "    * Save your notebook, click ``File`` $\\rightarrow$ ``Save``\n",
        "    * Click ``File`` $\\rightarrow$ ``Save a copy in GitHub``\n",
        "    * Select ``digikolleg-data-science-psychology/8-visualization-<username>`` from the repository drop-down menu\n",
        "    * Type ``8_visualization.ipynb`` into the file path text box\n",
        "    * Optionally, you may enter a description into the \"Commit message\" text box (like: \"solved task 1\" or \"ready for grading\")\n",
        "    * Make sure that the \"Include a link to Colaboratory\" box is checked\n",
        "    * Press \"Ok\"\n",
        "    * A new tab or window should open up, displaying your submitted notebook within your GitHub repository\n",
        "\n",
        "Before the assignment deadline, you can re-submit your assignment as often as you would like. This will update your assignment file in your assignment's repository."
      ]
    },
    {
      "cell_type": "markdown",
      "id": "2fe61c2c-a030-4c02-8214-7db7d1c10df5",
      "metadata": {
        "id": "2fe61c2c-a030-4c02-8214-7db7d1c10df5"
      },
      "source": [
        "### **Assignment Description**\n",
        "In this assignment, you will dive into visualization using ``Matplotlib`` which is a library for creating static, animated, and interactive visualizations in Python. Visualization in data analysis is crucial because it allows us to understand and communicate complex information more effectively.\n",
        "#### **Assignment Goals**\n",
        "You are going to learn the following things in this assignment:\n",
        "1. how to create figures using matplotlib\n",
        "2. how to create different types of plots\n",
        "3. how to create multiple plots in the same figure\n",
        "4. how to add descriptive information to a figure\n",
        "5. how to enhance the appearance of data\n",
        "6. how to increase the comparability of data\n",
        "\n",
        "#### **Assignment Point Value**\n",
        "This assignment is worth a total (up to) **11** points. If your code passes all of the manual and automatic tests you will receive full credit."
      ]
    },
    {
      "cell_type": "markdown",
      "id": "89d2a637-e274-43a8-a88a-23bb204e96db",
      "metadata": {
        "id": "89d2a637-e274-43a8-a88a-23bb204e96db"
      },
      "source": [
        "### **Tasks**\n",
        "Make sure that you now work on your *copied* version of this assignment's notebook."
      ]
    },
    {
      "cell_type": "markdown",
      "id": "42e90337-1130-4412-b037-d1267bc45101",
      "metadata": {
        "id": "42e90337-1130-4412-b037-d1267bc45101"
      },
      "source": [
        "#### 0. Imports and Setup\n",
        "Please **run** the cell below to import the libraries needed for this assignment."
      ]
    },
    {
      "cell_type": "code",
      "execution_count": null,
      "id": "23f1cef0-5d30-4548-b6b6-4020b3013f8c",
      "metadata": {
        "id": "23f1cef0-5d30-4548-b6b6-4020b3013f8c"
      },
      "outputs": [],
      "source": [
        "import matplotlib\n",
        "import matplotlib.pyplot as plt\n",
        "import numpy as np\n",
        "!pip install biopsykit\n",
        "import biopsykit as bp\n",
        "!pip install ipympl\n",
        "import neurokit2 as nk\n",
        "from scipy import stats\n",
        "\n",
        "from google.colab import output\n",
        "output.enable_custom_widget_manager()\n",
        "%matplotlib inline"
      ]
    },
    {
      "cell_type": "markdown",
      "id": "cf06b76a-1f23-4ffa-a550-f0bc4a05ad64",
      "metadata": {
        "id": "cf06b76a-1f23-4ffa-a550-f0bc4a05ad64"
      },
      "source": [
        "##### 0.1 Run the following cell to load the ECG data of two participants:\n",
        "* ``ecg_1``: ``numpy.ndarray`` containing all samples recorded from the ECG of participant 1\n",
        "* ``ecg_2``: ``numpy.ndarray`` containing all samples recorded from the ECG of participant 2\n",
        "* ``fs``: ``float`` number containing the sampling frequency of ``ecg_1`` and ``ecg_2``. In this case, ``fs`` is equal to 256.0 Hz which means that 256 ECG samples were taken in one second."
      ]
    },
    {
      "cell_type": "code",
      "execution_count": null,
      "id": "f6073184-423d-43c1-a155-a2b2a7c62809",
      "metadata": {
        "tags": [],
        "id": "f6073184-423d-43c1-a155-a2b2a7c62809"
      },
      "outputs": [],
      "source": [
        "# run this cell to load the data\n",
        "ecg_1, fs = bp.example_data.get_ecg_example()\n",
        "ecg_1 = ecg_1[\"ecg\"].to_numpy()\n",
        "ecg_2, _ = bp.example_data.get_ecg_example_02()\n",
        "ecg_2 = ecg_2[\"ecg\"].to_numpy()"
      ]
    },
    {
      "cell_type": "markdown",
      "id": "872ba7dc-f807-438f-8463-d66a684b2881",
      "metadata": {
        "id": "872ba7dc-f807-438f-8463-d66a684b2881"
      },
      "source": [
        "In the following, you will perform a step-by-step heart rate analysis based on the given ECGs ``ecg_1`` and ``ecg_2``. You will repeat some of the calculations performed in a similar way in earlier assignments and will visualize their outputs/results in between."
      ]
    },
    {
      "cell_type": "markdown",
      "id": "a8bb44dd-58fa-4793-bce0-a269e7d8c7e4",
      "metadata": {
        "id": "a8bb44dd-58fa-4793-bce0-a269e7d8c7e4"
      },
      "source": [
        "#### 1. Create a figure that visualizes ``ecg_1``. To do so:\n",
        "* Create a figure called ``fig`` using [matplotlib.pyplot.figure](https://matplotlib.org/stable/api/_as_gen/matplotlib.pyplot.figure.html) with size (8, 3)\n",
        "* Create a vector ``t`` that represents the time axis of ``ecg_1`` using [numpy.linspace](https://numpy.org/doc/stable/reference/generated/numpy.linspace.html) and ``fs``. ``t`` starts at 0 and should not include the endpoint.\n",
        "* Plot ``ecg_1`` over ``t``. Try out different parameters like [linestyle](https://matplotlib.org/stable/api/_as_gen/matplotlib.lines.Line2D.html#matplotlib.lines.Line2D.set_linestyle), [marker](https://matplotlib.org/stable/api/_as_gen/matplotlib.markers.MarkerStyle.html#matplotlib.markers.MarkerStyle), or [color](https://matplotlib.org/stable/gallery/color/named_colors.html) to change the signal appearance.\n",
        "* Set the x- and y-label as well as the title of the figure according to the data\n",
        "* If your figure is not visualized completely, you can also set the layout to be tight\n",
        "\n",
        "**Hints**: ``matplotlib.pyplot`` is already imported at the top. If you want to have a look at exemplary usage, you can check out this [matplotlib tutorial](https://matplotlib.org/stable/tutorials/introductory/pyplot.html). Also, this time we install ``ipympl`` which enables using the interactive features of ``matplotlib`` in notebooks. To use the features, move your cursor onto the figure, a tool bar appears and you can for example zoom into your figures."
      ]
    },
    {
      "cell_type": "code",
      "execution_count": null,
      "id": "bb173adf-48cc-45e0-b400-2bbb554f22ea",
      "metadata": {
        "deletable": false,
        "nbgrader": {
          "cell_type": "code",
          "checksum": "aed26d8e255770a1f6ff48cf0fb1e44c",
          "grade": false,
          "grade_id": "task_1",
          "locked": false,
          "schema_version": 3,
          "solution": true,
          "task": false
        },
        "tags": [],
        "id": "bb173adf-48cc-45e0-b400-2bbb554f22ea"
      },
      "outputs": [],
      "source": [
        "# YOUR CODE HERE\n",
        "raise NotImplementedError()"
      ]
    },
    {
      "cell_type": "code",
      "execution_count": null,
      "id": "3277cbfb-6b13-48dc-bb40-b6ad4dfa377c",
      "metadata": {
        "deletable": false,
        "editable": false,
        "nbgrader": {
          "cell_type": "code",
          "checksum": "86d4698a44bf5416029a773447727b0a",
          "grade": true,
          "grade_id": "task_1_test",
          "locked": true,
          "points": 2,
          "schema_version": 3,
          "solution": false,
          "task": false
        },
        "tags": [],
        "id": "3277cbfb-6b13-48dc-bb40-b6ad4dfa377c"
      },
      "outputs": [],
      "source": [
        "# run cell to test your implementation\n",
        "assert len(t) == len(ecg_1), \"t must have the same length as ecg_1\"\n",
        "assert t[1] == 1 / fs and t[-1] == (len(ecg_1) - 1) / fs, \"Check that t is generated according to fs\"\n",
        "assert fig.get_figheight() == 3 and fig.get_figwidth() == 8, \"Check the size of the figure\"\n",
        "assert np.all(fig.axes[0].xaxis.get_data_interval() == np.array([0, 616.36328125])), \"Check that you plot the ecg over the time vector\"\n",
        "assert np.all(fig.axes[0].yaxis.get_data_interval() == np.array([-5010, 40364])), \"Check that you plot ecg_1\"\n",
        "assert len(fig.axes[0].get_xlabel()) != 0 and len(fig.axes[0].get_ylabel()) != 0, \"Check your x and y labels\"\n",
        "assert len(fig.axes[0].title.get_text()), \"Check the  figure's title\""
      ]
    },
    {
      "cell_type": "markdown",
      "id": "01d93c97-558c-4723-ac27-1f8ccd8f956c",
      "metadata": {
        "id": "01d93c97-558c-4723-ac27-1f8ccd8f956c"
      },
      "source": [
        "#### 2. Create a function ``extract_r_peaks`` which takes ``ecg`` and ``fs`` as parameters and calculates the R peaks of ``ecg``:\n",
        "* ``ecg``: ``numpy.ndarray`` containing the raw ECG data\n",
        "* ``fs``: sampling frequency of ``ecg``\n",
        "* Check if ``fs`` is of type ``int``. If not, convert it to ``int``.\n",
        "* Use the [NeuroKit.ecg_clean()](https://neuropsychology.github.io/NeuroKit/functions/ecg.html#neurokit2.ecg.ecg_clean) to remove noise and improve peak-detection accuracy. Use \"neurokit\" as ``method``.\n",
        "* Use [NeuroKit.ecg_peaks()](https://neuropsychology.github.io/NeuroKit/functions/ecg.html#ecg-peaks) to identify R peaks in the cleaned ECG version. Use \"neurokit\" as method.\n",
        "* The function should return the cleaned ecg and the array with R peak locations as samples (in this order) as tuple\n",
        "\n",
        "**Hint**: If a function has multiple return values but you are only interested in some of them you can ignore return values using a placeholder ``_`` (in the following example the second return value is ignored): ``val_1, _, val_3 = some_func()``"
      ]
    },
    {
      "cell_type": "code",
      "execution_count": null,
      "id": "a8f07c2a-4c06-488f-a013-b31d35829c6b",
      "metadata": {
        "deletable": false,
        "nbgrader": {
          "cell_type": "code",
          "checksum": "1ae86f079c7d6e82fa01c4a661c1333e",
          "grade": false,
          "grade_id": "task_2",
          "locked": false,
          "schema_version": 3,
          "solution": true,
          "task": false
        },
        "tags": [],
        "id": "a8f07c2a-4c06-488f-a013-b31d35829c6b"
      },
      "outputs": [],
      "source": [
        "# YOUR CODE HERE\n",
        "raise NotImplementedError()"
      ]
    },
    {
      "cell_type": "code",
      "execution_count": null,
      "id": "fc060d99-fdf1-4f91-a45f-c677210fe530",
      "metadata": {
        "deletable": false,
        "editable": false,
        "nbgrader": {
          "cell_type": "code",
          "checksum": "1786e5ec384c01a0ae5a85d5e40e230c",
          "grade": true,
          "grade_id": "task_2_test",
          "locked": true,
          "points": 1,
          "schema_version": 3,
          "solution": false,
          "task": false
        },
        "tags": [],
        "id": "fc060d99-fdf1-4f91-a45f-c677210fe530"
      },
      "outputs": [],
      "source": [
        "# run cell to test your implementation\n",
        "test = extract_r_peaks(ecg_1, fs)\n",
        "assert type(test) == tuple, \"Check if you return a tuple of the cleaned ecg and the array with r peak locations\"\n",
        "assert np.max(ecg_1) > np.max(test[0]) and np.min(ecg_1) < np.min(test[0]), \"Check that you return the cleaned ecg and not the original ecg\"\n",
        "assert type(test[1]) == np.ndarray and np.shape(test[1]) == (876,), \"Check that you return only the array of r peak locations\"\n",
        "assert np.sum(test[1]) < 69896028, \"Check that you apply ecg_peaks() to the cleaned ecg\""
      ]
    },
    {
      "cell_type": "markdown",
      "id": "22d20c38-1ad3-4dad-ada6-0f8082316e1b",
      "metadata": {
        "tags": [],
        "id": "22d20c38-1ad3-4dad-ada6-0f8082316e1b"
      },
      "source": [
        "#### 3. Create a figure that visualizes ``ecg_1`` and its respective R peaks. To do so:\n",
        "* Create a figure called ``fig`` with an appropriate size\n",
        "* Plot the cleaned version of ``ecg_1`` over time\n",
        "* Mark every identified R peak with an individual marker. You can use for example [matplotlib.pyplot.scatter](https://matplotlib.org/stable/tutorials/introductory/pyplot.html) for this.\n",
        "* Add a legend to your figure such that the ECG and R peaks are identified. Check out what you have to change in your code when plotting the ECG and R peaks.\n",
        "* Set the x- and y-label as well as the title of the figure according to the data\n",
        "\n",
        "**Hint**: The function ``extract_r_peaks()`` returns an array of samples, indicating the specific sample positions where the R peaks were detected in the ECG."
      ]
    },
    {
      "cell_type": "code",
      "execution_count": null,
      "id": "bfc37986-e918-42d4-8ae2-42000f13e3bd",
      "metadata": {
        "deletable": false,
        "nbgrader": {
          "cell_type": "code",
          "checksum": "d88d6070375f2107b90a7f85c4f7131b",
          "grade": false,
          "grade_id": "task_3",
          "locked": false,
          "schema_version": 3,
          "solution": true,
          "task": false
        },
        "tags": [],
        "id": "bfc37986-e918-42d4-8ae2-42000f13e3bd"
      },
      "outputs": [],
      "source": [
        "# YOUR CODE HERE\n",
        "raise NotImplementedError()"
      ]
    },
    {
      "cell_type": "code",
      "execution_count": null,
      "id": "b87b88cc-4969-4966-a515-3e0bb7f0859a",
      "metadata": {
        "deletable": false,
        "editable": false,
        "nbgrader": {
          "cell_type": "code",
          "checksum": "0d962894aff96a84b8b17d71a1b4be55",
          "grade": true,
          "grade_id": "task_3_test",
          "locked": true,
          "points": 2,
          "schema_version": 3,
          "solution": false,
          "task": false
        },
        "tags": [],
        "id": "b87b88cc-4969-4966-a515-3e0bb7f0859a"
      },
      "outputs": [],
      "source": [
        "# run cell to test your implementation\n",
        "assert np.all(fig.axes[0].xaxis.get_data_interval() == np.array([0, 616.36328125])), \"Check that you plot the ecg over the time vector\"\n",
        "assert fig.axes[0].yaxis.get_data_interval()[0] < -4100 and fig.axes[0].yaxis.get_data_interval()[1] > 30200, \"Check that you plot the cleaned version of ecg_1\"\n",
        "assert len([child for child in fig.axes[0].get_children() if type(child) == matplotlib.collections.PathCollection or type(child) == matplotlib.lines.Line2D]) >=2, \"Check if you visualized ecg and r peaks\"\n",
        "assert fig.axes[0].axes.get_legend() is not None, \"Check if you added a legend\"\n",
        "assert len(fig.axes[0].axes.get_legend().get_texts()) == 2, \"Check if you set a label for ecg and r peaks\"\n",
        "assert len(fig.axes[0].get_xlabel()) != 0 and len(fig.axes[0].get_ylabel()) != 0, \"Check your x and y labels\"\n",
        "assert len(fig.axes[0].title.get_text()), \"Check the  figure's title\""
      ]
    },
    {
      "cell_type": "markdown",
      "id": "9fbbd1a7-256e-4d48-b7af-d2faff0b383d",
      "metadata": {
        "tags": [],
        "id": "9fbbd1a7-256e-4d48-b7af-d2faff0b383d"
      },
      "source": [
        "#### 4. Create a function called ``calc_hr`` that takes ``r_peaks`` and ``fs`` as parameters and calculates the heart rate from ``r_peaks``:\n",
        "* ``r_peaks``: ``numpy.ndarray`` with R peak locations of an ecg as samples\n",
        "* ``fs``: sampling frequency of the ECG\n",
        "* The function should return an array containing the heart rate in beats per minute (bpm) for every RR interval individually"
      ]
    },
    {
      "cell_type": "code",
      "execution_count": null,
      "id": "8f1d5006-3a7c-4246-b96f-74df40fcc4ef",
      "metadata": {
        "deletable": false,
        "nbgrader": {
          "cell_type": "code",
          "checksum": "43a058c48b06b57d8945cc16939c1cab",
          "grade": false,
          "grade_id": "task_4",
          "locked": false,
          "schema_version": 3,
          "solution": true,
          "task": false
        },
        "tags": [],
        "id": "8f1d5006-3a7c-4246-b96f-74df40fcc4ef"
      },
      "outputs": [],
      "source": [
        "# YOUR CODE HERE\n",
        "raise NotImplementedError()"
      ]
    },
    {
      "cell_type": "code",
      "execution_count": null,
      "id": "692bc87b-4f44-4748-a8c4-9040fa449500",
      "metadata": {
        "deletable": false,
        "editable": false,
        "nbgrader": {
          "cell_type": "code",
          "checksum": "23db3fd54bce078abf01397db9c49305",
          "grade": true,
          "grade_id": "task_4_test",
          "locked": true,
          "points": 1,
          "schema_version": 3,
          "solution": false,
          "task": false
        },
        "tags": [],
        "id": "692bc87b-4f44-4748-a8c4-9040fa449500"
      },
      "outputs": [],
      "source": [
        "# run cell to test your implementation\n",
        "_, r_peaks = extract_r_peaks(ecg_1, fs)\n",
        "hr = calc_hr(r_peaks, fs)\n",
        "assert type(hr) == np.ndarray, \"Check that you return an array of heart rates\"\n",
        "assert len(hr) == 875, \"Check that you calculate the heart rate for every rr interval\"\n",
        "assert np.mean(hr) > 84 and np.mean(hr) < 86, \"Check that you convert the heart rate into beats per minute\""
      ]
    },
    {
      "cell_type": "markdown",
      "id": "f3fbf3c5-3f78-4ae9-bba8-63fef01f8e7d",
      "metadata": {
        "id": "f3fbf3c5-3f78-4ae9-bba8-63fef01f8e7d"
      },
      "source": [
        "#### 5. Create a function ``correct_outlier`` that takes ``hr`` as parameter and eliminates the outliers of ``hr``:\n",
        "* ``hr``: ``numpy.ndarray`` containing the heart rate in beats per minute (bpm) for every RR interval individually\n",
        "* The function should return an array that includes only those elements of ``hr`` which are within 2 standard deviations from the mean"
      ]
    },
    {
      "cell_type": "code",
      "execution_count": null,
      "id": "bbf79c39-d18b-4e35-9302-69a7acf5e8bc",
      "metadata": {
        "deletable": false,
        "nbgrader": {
          "cell_type": "code",
          "checksum": "d55cf67289db3ca6b1e7de05bfc72525",
          "grade": false,
          "grade_id": "task_5",
          "locked": false,
          "schema_version": 3,
          "solution": true,
          "task": false
        },
        "tags": [],
        "id": "bbf79c39-d18b-4e35-9302-69a7acf5e8bc"
      },
      "outputs": [],
      "source": [
        "# YOUR CODE HERE\n",
        "raise NotImplementedError()"
      ]
    },
    {
      "cell_type": "code",
      "execution_count": null,
      "id": "f57bc2bc-4e98-41b7-8d60-0d193e0bd6bb",
      "metadata": {
        "deletable": false,
        "editable": false,
        "nbgrader": {
          "cell_type": "code",
          "checksum": "cdf7aa958e3e670b36f24ae12865cd14",
          "grade": true,
          "grade_id": "task_5_test",
          "locked": true,
          "points": 1,
          "schema_version": 3,
          "solution": false,
          "task": false
        },
        "tags": [],
        "id": "f57bc2bc-4e98-41b7-8d60-0d193e0bd6bb"
      },
      "outputs": [],
      "source": [
        "# run cell to test your implementation\n",
        "_, r_peaks_1 = extract_r_peaks(ecg_1, fs)\n",
        "hr_1 = calc_hr(r_peaks_1, fs)\n",
        "hr_cleaned_1 = correct_outlier(hr_1)\n",
        "assert len(hr_cleaned_1) == 823, \"Check that you return an array which does not include the outliers\"\n",
        "assert np.max(hr_cleaned_1) < 102 and np.min(hr_cleaned_1) > 71, \"Check that you remove smaller and larger outliers\""
      ]
    },
    {
      "cell_type": "markdown",
      "id": "3e56ee69-081f-420f-aec0-118bb7a3e517",
      "metadata": {
        "id": "3e56ee69-081f-420f-aec0-118bb7a3e517"
      },
      "source": [
        "#### 6. Create a figure with two subplots that visualizes the heart rate **distribution** before and after outlier correction of ``ecg_1``. To do so:\n",
        "* Create a ``list`` called ``bins``which includes all values between 60 and 115 with stepsize 2 in between two consecutive numbers\n",
        "* Create a figure with appropriate size and two subplots next to each other using [matplotlib.pyplot.subplots](https://matplotlib.org/stable/api/_as_gen/matplotlib.pyplot.subplots.html). For easier usage afterward, save its return values in variables called ``fig`` and ``axs``.\n",
        "* Plot in the left subplot the histogram of the original heart rate distribution of ``ecg_1`` using ``bins``\n",
        "* Plot in the right subplot the histogram of the outlier corrected heart rate distribution of ``ecg_1`` using ``bins``\n",
        "* Set x- and y-axis labels as well as the titles for both subplots according to the data\n",
        "\n",
        "**Hint**: Check if the ``sharex`` and ``sharey`` parameters of [matplotlib.pyplot.subplots](https://matplotlib.org/stable/api/_as_gen/matplotlib.pyplot.subplots.html) can improve the comparability of your distributions."
      ]
    },
    {
      "cell_type": "code",
      "execution_count": null,
      "id": "a5baccb8-b7b3-4100-8587-c70cd1d275c5",
      "metadata": {
        "deletable": false,
        "nbgrader": {
          "cell_type": "code",
          "checksum": "1045b2b7fcc6e0a1e36287b8dcbccda8",
          "grade": false,
          "grade_id": "task_6",
          "locked": false,
          "schema_version": 3,
          "solution": true,
          "task": false
        },
        "tags": [],
        "id": "a5baccb8-b7b3-4100-8587-c70cd1d275c5"
      },
      "outputs": [],
      "source": [
        "# YOUR CODE HERE\n",
        "raise NotImplementedError()"
      ]
    },
    {
      "cell_type": "code",
      "execution_count": null,
      "id": "2ebf364d-8e33-402d-8d4c-ed39e3cfc3b7",
      "metadata": {
        "deletable": false,
        "editable": false,
        "nbgrader": {
          "cell_type": "code",
          "checksum": "14b6d77439488dc801eabc184f146efb",
          "grade": true,
          "grade_id": "task_6_test",
          "locked": true,
          "points": 2,
          "schema_version": 3,
          "solution": false,
          "task": false
        },
        "tags": [],
        "id": "2ebf364d-8e33-402d-8d4c-ed39e3cfc3b7"
      },
      "outputs": [],
      "source": [
        "# run cell to test your implementation\n",
        "assert len(bins) == 28 and bins[0] == 60 and bins[-1] == 114, \"Check your bin creation parameters and the endpoints\"\n",
        "assert len(fig.axes) == 2, \"Check that you created a figure with two subplots\"\n",
        "assert len([0 for child in fig.axes[0].get_children() + fig.axes[1].get_children() if type(child) == matplotlib.patches.Rectangle]) == 56, \"Check that you used the variable bins as the bins parameter\"\n",
        "val_1 = sum([child.get_height() for child in fig.axes[0].get_children()[:-1] if type(child) == matplotlib.patches.Rectangle])\n",
        "val_2 = sum([child.get_height() for child in fig.axes[1].get_children()[:-1] if type(child) == matplotlib.patches.Rectangle])\n",
        "assert val_1 != val_2, \"Check if you plot two different distributions\"\n",
        "assert len(fig.axes[0].get_xlabel()) != 0 and len(fig.axes[0].get_ylabel()) != 0, \"Check the left sublot's x and y labels\"\n",
        "assert len(fig.axes[1].get_xlabel()) != 0 and len(fig.axes[1].get_ylabel()) != 0, \"Check the right subplot's x and y labels\"\n",
        "assert len(fig.axes[0].title.get_text()), \"Check the left subplot's title\"\n",
        "assert len(fig.axes[1].title.get_text()), \"Check the right subplot's title\""
      ]
    },
    {
      "cell_type": "markdown",
      "id": "08badf8a-c47b-430d-8d04-24301d87dd67",
      "metadata": {
        "tags": [],
        "id": "08badf8a-c47b-430d-8d04-24301d87dd67"
      },
      "source": [
        "#### 7. Create a figure with two subplots that visualizes the heart rate distributions before and after outlier correction as box plots of ``ecg_1`` and ``ecg_2``. To do so:\n",
        "* Create a figure with appropriate size and two subplots next to each other. Save its return values in variables called ``fig`` and ``axs``.\n",
        "* Create in the left subplot two boxplots visualizing the original heart rate distributions of ``ecg_1`` and ``ecg_2``. Set the labels accordingly.\n",
        "* Create in the right subplot two boxplots visualizing the outlier corrected heart rate distributions of ``ecg_1`` and ``ecg_2``. Set the labels accordingly.\n",
        "* Set x- and y-axis labels as well as the titles for both subplots according to the data"
      ]
    },
    {
      "cell_type": "code",
      "execution_count": null,
      "id": "14d62cfe-2395-4f28-a0e2-480c3720b678",
      "metadata": {
        "deletable": false,
        "nbgrader": {
          "cell_type": "code",
          "checksum": "c87090dc555cbe17b3cc3d2c7aa5bff5",
          "grade": false,
          "grade_id": "task_7",
          "locked": false,
          "schema_version": 3,
          "solution": true,
          "task": false
        },
        "tags": [],
        "id": "14d62cfe-2395-4f28-a0e2-480c3720b678"
      },
      "outputs": [],
      "source": [
        "# YOUR CODE HERE\n",
        "raise NotImplementedError()"
      ]
    },
    {
      "cell_type": "code",
      "execution_count": null,
      "id": "d1659583-e744-4c01-bd3f-e5c0bfbda196",
      "metadata": {
        "deletable": false,
        "editable": false,
        "nbgrader": {
          "cell_type": "code",
          "checksum": "6a55b2c853d926d06c93c940838769e8",
          "grade": true,
          "grade_id": "task_7_test",
          "locked": true,
          "points": 2,
          "schema_version": 3,
          "solution": false,
          "task": false
        },
        "tags": [],
        "id": "d1659583-e744-4c01-bd3f-e5c0bfbda196"
      },
      "outputs": [],
      "source": [
        "# run cell to test your implementation\n",
        "assert len(fig.axes) == 2, \"Check that you created a figure with two subplots\"\n",
        "assert len([0 for child in fig.axes[0].get_children() if type(child) == matplotlib.lines.Line2D]) > 10, \"Check that you plot a boxplot in the left subplot\"\n",
        "assert len([0 for child in fig.axes[1].get_children() if type(child) == matplotlib.lines.Line2D]) > 10, \"Check that you plot a boxplot in the right subplot\"\n",
        "assert np.all(fig.axes[0].yaxis.get_data_interval() != fig.axes[1].yaxis.get_data_interval()), \"Check that you plot both datatset (original and corrected) separately in the two subplots\"\n",
        "assert fig.axes[0].get_xticklabels()[0].get_text() != \"1\" and fig.axes[1].get_xticklabels()[0].get_text() != \"2\", \"Check that you set the labels in the left subplot\"\n",
        "assert fig.axes[1].get_xticklabels()[0].get_text() != \"1\" and fig.axes[1].get_xticklabels()[0].get_text() != \"2\", \"Check that you set the labels in the right subplot\"\n",
        "assert len(fig.axes[0].get_xlabel()) != 0 and len(fig.axes[0].get_ylabel()) != 0, \"Check the left sublot's x and y labels\"\n",
        "assert len(fig.axes[1].get_xlabel()) != 0 and len(fig.axes[1].get_ylabel()) != 0, \"Check the right subplot's x and y labels\"\n",
        "assert len(fig.axes[0].title.get_text()), \"Check the left subplot's title\"\n",
        "assert len(fig.axes[1].title.get_text()), \"Check the right subplot's title\""
      ]
    },
    {
      "cell_type": "code",
      "execution_count": null,
      "id": "d935de0c-8d82-43e8-89e2-cbf8bae07ff0",
      "metadata": {
        "tags": [],
        "id": "d935de0c-8d82-43e8-89e2-cbf8bae07ff0"
      },
      "outputs": [],
      "source": []
    }
  ],
  "metadata": {
    "kernelspec": {
      "display_name": "Python 3",
      "name": "python3"
    },
    "language_info": {
      "name": "python"
    },
    "colab": {
      "provenance": [],
      "include_colab_link": true
    }
  },
  "nbformat": 4,
  "nbformat_minor": 5
}